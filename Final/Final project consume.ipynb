{
 "cells": [
  {
   "cell_type": "code",
   "execution_count": 9,
   "id": "f58aebf0",
   "metadata": {},
   "outputs": [],
   "source": [
    "import json\n",
    "import csv\n",
    "import pandas as pd\n",
    "import re"
   ]
  },
  {
   "cell_type": "code",
   "execution_count": 10,
   "id": "2c00c8e2",
   "metadata": {},
   "outputs": [],
   "source": [
    "import urllib.request as req\n",
    "url = \"https://www.ettoday.net/news_search/doSearch.php?keywords=%E8%B2%AC%E4%BB%BB%E6%B6%88%E8%B2%BB%E8%88%87%E7%94%9F%E7%94%A2\"\n",
    "request = req.Request(url,headers = {\"User-Agent\":\"/5.0 (Windows NT 10.0; Win64; x64) AppleWebKit/537.36 (KHTML, like Gecko) Chrome/106.0.0.0 Safari/537.36\"})\n",
    "with req.urlopen(request) as response:\n",
    "    data =response.read().decode(\"utf-8\")"
   ]
  },
  {
   "cell_type": "code",
   "execution_count": 11,
   "id": "262f1f91",
   "metadata": {},
   "outputs": [
    {
     "name": "stdout",
     "output_type": "stream",
     "text": [
      "[<h2><a href=\"https://www.ettoday.net/news/20230602/2511997.htm\" onclick=\"_gaq.push(['_trackEvent', '搜尋-結果列表','責任消費與生產','https://www.ettoday.net/news/20230602/2511997.htm']);\" target=\"_blank\">輔大「世界大學影響力」排名大躍進　SDGs17和台大並列全台第四名</a></h2>, <h2><a href=\"https://www.ettoday.net/news/20230518/2501634.htm\" onclick=\"_gaq.push(['_trackEvent', '搜尋-結果列表','責任消費與生產','https://www.ettoday.net/news/20230518/2501634.htm']);\" target=\"_blank\">「不塑之客」愛地球！向聯合國指標邁進　花蓮近250店家參與</a></h2>, <h2><a href=\"https://www.ettoday.net/news/20230309/2455439.htm\" onclick=\"_gaq.push(['_trackEvent', '搜尋-結果列表','責任消費與生產','https://www.ettoday.net/news/20230309/2455439.htm']);\" target=\"_blank\">綠色環保是趨勢！花蓮力推自備餐具享優惠　45家業者響應</a></h2>]\n"
     ]
    }
   ],
   "source": [
    "import requests\n",
    "\n",
    "from bs4 import BeautifulSoup \n",
    "response = requests.get(url)\n",
    "soup = BeautifulSoup(response.text,\"html.parser\")\n",
    "result = soup.find_all(\"h2\",limit=3) \n",
    "print(result)"
   ]
  },
  {
   "cell_type": "code",
   "execution_count": 12,
   "id": "b7cc40fc",
   "metadata": {},
   "outputs": [
    {
     "data": {
      "text/plain": [
       "['https://www.ettoday.net/news/20230602/2511997.htm',\n",
       " 'https://www.ettoday.net/news/20230518/2501634.htm',\n",
       " 'https://www.ettoday.net/news/20230309/2455439.htm',\n",
       " 'https://www.ettoday.net/news/20230209/2437424.htm',\n",
       " 'https://www.ettoday.net/news/20221111/2377810.htm',\n",
       " 'https://www.ettoday.net/news/20221005/2351896.htm',\n",
       " 'https://www.ettoday.net/news/20220812/2315078.htm',\n",
       " 'https://www.ettoday.net/news/20220804/2309146.htm',\n",
       " 'https://www.ettoday.net/news/20220426/2237784.htm',\n",
       " 'https://www.ettoday.net/news/20220223/2194745.htm']"
      ]
     },
     "execution_count": 12,
     "metadata": {},
     "output_type": "execute_result"
    }
   ],
   "source": [
    "link_list = list()\n",
    "titles = soup.find_all(\"h2\")\n",
    "for title in titles:\n",
    "    anchor = title.select_one(\"a\")\n",
    "    if anchor is not None:\n",
    "        link_list.append(anchor.get(\"href\"))\n",
    "        #print(anchor.get(\"href\"))\n",
    "link_list "
   ]
  },
  {
   "cell_type": "code",
   "execution_count": 13,
   "id": "5ff39b3f",
   "metadata": {},
   "outputs": [
    {
     "name": "stdout",
     "output_type": "stream",
     "text": [
      "['輔大「世界大學影響力」排名大躍進\\u3000SDGs17和台大並列全台第四名', '「不塑之客」愛地球！向聯合國指標邁進\\u3000花蓮近250店家參與', '綠色環保是趨勢！花蓮力推自備餐具享優惠\\u300045家業者響應', '元智《食是求適》團隊\\u3000預訪剩食獲30萬行動獎金', '櫃買中心致力推動ESG！永續債券市場規模破3500億\\u3000今年發行量再創高', '消費記住4口訣！美麗包裝拆開後成垃圾\\u3000減少層層包裹愛地球', '佳世達「台灣永續行動獎」雙金一銀一銅肯定\\u3000實踐SDGs大有所成！', '超商首創「循環經濟資源回收機」！拿電池、寶特瓶爽換購物金', '廢棄物找有緣人！花蓮「免廢市集」免費換物續資源', '台南展現淨零排放決心\\u3000永續發展目標自願檢視報告出爐']\n"
     ]
    }
   ],
   "source": [
    "head_list = list()\n",
    "titles = soup.find_all(\"h2\")\n",
    "for title in titles:\n",
    "    anchor = title.select_one(\"a\")\n",
    "    if anchor is not None:\n",
    "        head_list.append(anchor.getText())\n",
    "        #print(anchor.getText())\n",
    "print(head_list)"
   ]
  },
  {
   "cell_type": "code",
   "execution_count": 14,
   "id": "351fc5d3",
   "metadata": {},
   "outputs": [
    {
     "data": {
      "text/plain": [
       "['輔大「世界大學影響力」排名大躍進 SDGs17和台大並列全台第四名',\n",
       " '「不塑之客」愛地球！向聯合國指標邁進 花蓮近250店家參與',\n",
       " '綠色環保是趨勢！花蓮力推自備餐具享優惠 45家業者響應',\n",
       " '元智《食是求適》團隊 預訪剩食獲30萬行動獎金',\n",
       " '櫃買中心致力推動ESG！永續債券市場規模破3500億 今年發行量再創高',\n",
       " '消費記住4口訣！美麗包裝拆開後成垃圾 減少層層包裹愛地球',\n",
       " '佳世達「台灣永續行動獎」雙金一銀一銅肯定 實踐SDGs大有所成！',\n",
       " '超商首創「循環經濟資源回收機」！拿電池、寶特瓶爽換購物金',\n",
       " '廢棄物找有緣人！花蓮「免廢市集」免費換物續資源',\n",
       " '台南展現淨零排放決心 永續發展目標自願檢視報告出爐']"
      ]
     },
     "execution_count": 14,
     "metadata": {},
     "output_type": "execute_result"
    }
   ],
   "source": [
    "cleaned_list = [text.replace('\\u3000', ' ') for text in head_list]\n",
    "cleaned_list"
   ]
  },
  {
   "cell_type": "code",
   "execution_count": 15,
   "id": "abd8aa4d",
   "metadata": {},
   "outputs": [
    {
     "data": {
      "text/html": [
       "<div>\n",
       "<style scoped>\n",
       "    .dataframe tbody tr th:only-of-type {\n",
       "        vertical-align: middle;\n",
       "    }\n",
       "\n",
       "    .dataframe tbody tr th {\n",
       "        vertical-align: top;\n",
       "    }\n",
       "\n",
       "    .dataframe thead th {\n",
       "        text-align: right;\n",
       "    }\n",
       "</style>\n",
       "<table border=\"1\" class=\"dataframe\">\n",
       "  <thead>\n",
       "    <tr style=\"text-align: right;\">\n",
       "      <th></th>\n",
       "      <th>head</th>\n",
       "      <th>link</th>\n",
       "    </tr>\n",
       "  </thead>\n",
       "  <tbody>\n",
       "    <tr>\n",
       "      <th>0</th>\n",
       "      <td>輔大「世界大學影響力」排名大躍進　SDGs17和台大並列全台第四名</td>\n",
       "      <td>https://www.ettoday.net/news/20230602/2511997.htm</td>\n",
       "    </tr>\n",
       "    <tr>\n",
       "      <th>1</th>\n",
       "      <td>「不塑之客」愛地球！向聯合國指標邁進　花蓮近250店家參與</td>\n",
       "      <td>https://www.ettoday.net/news/20230518/2501634.htm</td>\n",
       "    </tr>\n",
       "    <tr>\n",
       "      <th>2</th>\n",
       "      <td>綠色環保是趨勢！花蓮力推自備餐具享優惠　45家業者響應</td>\n",
       "      <td>https://www.ettoday.net/news/20230309/2455439.htm</td>\n",
       "    </tr>\n",
       "    <tr>\n",
       "      <th>3</th>\n",
       "      <td>元智《食是求適》團隊　預訪剩食獲30萬行動獎金</td>\n",
       "      <td>https://www.ettoday.net/news/20230209/2437424.htm</td>\n",
       "    </tr>\n",
       "    <tr>\n",
       "      <th>4</th>\n",
       "      <td>櫃買中心致力推動ESG！永續債券市場規模破3500億　今年發行量再創高</td>\n",
       "      <td>https://www.ettoday.net/news/20221111/2377810.htm</td>\n",
       "    </tr>\n",
       "    <tr>\n",
       "      <th>5</th>\n",
       "      <td>消費記住4口訣！美麗包裝拆開後成垃圾　減少層層包裹愛地球</td>\n",
       "      <td>https://www.ettoday.net/news/20221005/2351896.htm</td>\n",
       "    </tr>\n",
       "    <tr>\n",
       "      <th>6</th>\n",
       "      <td>佳世達「台灣永續行動獎」雙金一銀一銅肯定　實踐SDGs大有所成！</td>\n",
       "      <td>https://www.ettoday.net/news/20220812/2315078.htm</td>\n",
       "    </tr>\n",
       "    <tr>\n",
       "      <th>7</th>\n",
       "      <td>超商首創「循環經濟資源回收機」！拿電池、寶特瓶爽換購物金</td>\n",
       "      <td>https://www.ettoday.net/news/20220804/2309146.htm</td>\n",
       "    </tr>\n",
       "    <tr>\n",
       "      <th>8</th>\n",
       "      <td>廢棄物找有緣人！花蓮「免廢市集」免費換物續資源</td>\n",
       "      <td>https://www.ettoday.net/news/20220426/2237784.htm</td>\n",
       "    </tr>\n",
       "    <tr>\n",
       "      <th>9</th>\n",
       "      <td>台南展現淨零排放決心　永續發展目標自願檢視報告出爐</td>\n",
       "      <td>https://www.ettoday.net/news/20220223/2194745.htm</td>\n",
       "    </tr>\n",
       "  </tbody>\n",
       "</table>\n",
       "</div>"
      ],
      "text/plain": [
       "                                  head  \\\n",
       "0    輔大「世界大學影響力」排名大躍進　SDGs17和台大並列全台第四名   \n",
       "1        「不塑之客」愛地球！向聯合國指標邁進　花蓮近250店家參與   \n",
       "2          綠色環保是趨勢！花蓮力推自備餐具享優惠　45家業者響應   \n",
       "3              元智《食是求適》團隊　預訪剩食獲30萬行動獎金   \n",
       "4  櫃買中心致力推動ESG！永續債券市場規模破3500億　今年發行量再創高   \n",
       "5         消費記住4口訣！美麗包裝拆開後成垃圾　減少層層包裹愛地球   \n",
       "6     佳世達「台灣永續行動獎」雙金一銀一銅肯定　實踐SDGs大有所成！   \n",
       "7         超商首創「循環經濟資源回收機」！拿電池、寶特瓶爽換購物金   \n",
       "8              廢棄物找有緣人！花蓮「免廢市集」免費換物續資源   \n",
       "9            台南展現淨零排放決心　永續發展目標自願檢視報告出爐   \n",
       "\n",
       "                                                link  \n",
       "0  https://www.ettoday.net/news/20230602/2511997.htm  \n",
       "1  https://www.ettoday.net/news/20230518/2501634.htm  \n",
       "2  https://www.ettoday.net/news/20230309/2455439.htm  \n",
       "3  https://www.ettoday.net/news/20230209/2437424.htm  \n",
       "4  https://www.ettoday.net/news/20221111/2377810.htm  \n",
       "5  https://www.ettoday.net/news/20221005/2351896.htm  \n",
       "6  https://www.ettoday.net/news/20220812/2315078.htm  \n",
       "7  https://www.ettoday.net/news/20220804/2309146.htm  \n",
       "8  https://www.ettoday.net/news/20220426/2237784.htm  \n",
       "9  https://www.ettoday.net/news/20220223/2194745.htm  "
      ]
     },
     "execution_count": 15,
     "metadata": {},
     "output_type": "execute_result"
    }
   ],
   "source": [
    "df = pd.DataFrame({'head': head_list})\n",
    "df = df.assign(link=link_list)\n",
    "df"
   ]
  },
  {
   "cell_type": "code",
   "execution_count": null,
   "id": "a96b3b1d",
   "metadata": {},
   "outputs": [],
   "source": []
  }
 ],
 "metadata": {
  "kernelspec": {
   "display_name": "Python 3 (ipykernel)",
   "language": "python",
   "name": "python3"
  },
  "language_info": {
   "codemirror_mode": {
    "name": "ipython",
    "version": 3
   },
   "file_extension": ".py",
   "mimetype": "text/x-python",
   "name": "python",
   "nbconvert_exporter": "python",
   "pygments_lexer": "ipython3",
   "version": "3.9.13"
  }
 },
 "nbformat": 4,
 "nbformat_minor": 5
}
