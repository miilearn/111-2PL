{
 "cells": [
  {
   "cell_type": "code",
   "execution_count": 12,
   "id": "a5b18cf9",
   "metadata": {},
   "outputs": [],
   "source": [
    "import json\n",
    "import csv\n",
    "import pandas as pd\n",
    "import re"
   ]
  },
  {
   "cell_type": "code",
   "execution_count": 13,
   "id": "6951e544",
   "metadata": {},
   "outputs": [],
   "source": [
    "import urllib.request as req \n",
    "url = \"https://www.ettoday.net/news_search/doSearch.php?keywords=%E6%80%A7%E5%88%A5%E5%B9%B3%E6%AC%8A\"\n",
    "request = req.Request(url,headers = {\"User-Agent\":\"/5.0 (Windows NT 10.0; Win64; x64) AppleWebKit/537.36 (KHTML, like Gecko) Chrome/106.0.0.0 Safari/537.36\"})\n",
    "with req.urlopen(request) as response:\n",
    "    data =response.read().decode(\"utf-8\")\n",
    "\n",
    "#print(data)"
   ]
  },
  {
   "cell_type": "code",
   "execution_count": 14,
   "id": "3547b49c",
   "metadata": {},
   "outputs": [
    {
     "name": "stdout",
     "output_type": "stream",
     "text": [
      "[<h2><a href=\"https://www.ettoday.net/news/20230606/2513982.htm\" onclick=\"_gaq.push(['_trackEvent', '搜尋-結果列表','性別平權','https://www.ettoday.net/news/20230606/2513982.htm']);\" target=\"_blank\">揭發RISU外流社團被酸變相宣傳　王婉諭：沈默會讓受害者更孤立無援</a></h2>, <h2><a href=\"https://www.ettoday.net/news/20230605/2513692.htm\" onclick=\"_gaq.push(['_trackEvent', '搜尋-結果列表','性別平權','https://www.ettoday.net/news/20230605/2513692.htm']);\" target=\"_blank\">台大醫學系教授自揭曾遭性騷擾「舉證困難結案」　院方回應了</a></h2>, <h2><a href=\"https://www.ettoday.net/news/20230605/2513528.htm\" onclick=\"_gaq.push(['_trackEvent', '搜尋-結果列表','性別平權','https://www.ettoday.net/news/20230605/2513528.htm']);\" target=\"_blank\">職場性騷擾「超過7成不敢說」！法規漏洞20年沒補⋯婦團聯合呼籲</a></h2>]\n"
     ]
    }
   ],
   "source": [
    "import requests\n",
    "\n",
    "from bs4 import BeautifulSoup \n",
    "response = requests.get(url)\n",
    "soup = BeautifulSoup(response.text,\"html.parser\")\n",
    "result = soup.find_all(\"h2\",limit=3) \n",
    "print(result)"
   ]
  },
  {
   "cell_type": "code",
   "execution_count": 15,
   "id": "89024a74",
   "metadata": {},
   "outputs": [
    {
     "data": {
      "text/plain": [
       "['https://www.ettoday.net/news/20230606/2513982.htm',\n",
       " 'https://www.ettoday.net/news/20230605/2513692.htm',\n",
       " 'https://www.ettoday.net/news/20230605/2513528.htm',\n",
       " 'https://www.ettoday.net/news/20230605/2513436.htm',\n",
       " 'https://www.ettoday.net/news/20230604/2513168.htm',\n",
       " 'https://www.ettoday.net/news/20230604/2513046.htm',\n",
       " 'https://www.ettoday.net/news/20230604/2513066.htm',\n",
       " 'https://www.ettoday.net/news/20230604/2512868.htm',\n",
       " 'https://www.ettoday.net/news/20230604/2512842.htm',\n",
       " 'https://www.ettoday.net/news/20230604/2512834.htm']"
      ]
     },
     "execution_count": 15,
     "metadata": {},
     "output_type": "execute_result"
    }
   ],
   "source": [
    "link_list = list()\n",
    "titles = soup.find_all(\"h2\")\n",
    "for title in titles:\n",
    "    anchor = title.select_one(\"a\")\n",
    "    if anchor is not None:\n",
    "        link_list.append(anchor.get(\"href\"))\n",
    "        #print(anchor.get(\"href\"))\n",
    "link_list "
   ]
  },
  {
   "cell_type": "code",
   "execution_count": 16,
   "id": "4d7d2e6f",
   "metadata": {},
   "outputs": [
    {
     "name": "stdout",
     "output_type": "stream",
     "text": [
      "['揭發RISU外流社團被酸變相宣傳\\u3000王婉諭：沈默會讓受害者更孤立無援', '台大醫學系教授自揭曾遭性騷擾「舉證困難結案」\\u3000院方回應了', '職場性騷擾「超過7成不敢說」！法規漏洞20年沒補⋯婦團聯合呼籲', '傅崐萁翻版？藍智庫前研究員曾柏文爆性騷\\u3000侯友宜：勿枉勿縱', '女記者控遭傅崐萁性騷\\u3000國民黨高層反嗆「泥巴戰」：是民進黨轉移焦點', '性平爭議延燒！應曉薇提5大修法方向\\u3000批民進黨不要只說幹話', '「絕不寬待」傅崐萁！\\u3000侯友宜籲調查性騷：不論黨籍一視同仁', '快訊／不輕縱！傅崐萁涉性騷時「無黨籍」\\u3000國民黨仍會啟動調查', '批民進黨DNA是「狼選之人─造狼者」\\u3000賴士葆肯定受害人站出來', '被點名目擊性騷！郝龍斌稱｢沒清楚記憶｣\\u3000勸傅崐萁坦然面對']\n"
     ]
    }
   ],
   "source": [
    "head_list = list()\n",
    "titles = soup.find_all(\"h2\")\n",
    "for title in titles:\n",
    "    anchor = title.select_one(\"a\")\n",
    "    if anchor is not None:\n",
    "        head_list.append(anchor.getText())\n",
    "        #print(anchor.getText())\n",
    "print(head_list)"
   ]
  },
  {
   "cell_type": "code",
   "execution_count": 17,
   "id": "0aa41433",
   "metadata": {},
   "outputs": [
    {
     "data": {
      "text/plain": [
       "['揭發RISU外流社團被酸變相宣傳 王婉諭：沈默會讓受害者更孤立無援',\n",
       " '台大醫學系教授自揭曾遭性騷擾「舉證困難結案」 院方回應了',\n",
       " '職場性騷擾「超過7成不敢說」！法規漏洞20年沒補⋯婦團聯合呼籲',\n",
       " '傅崐萁翻版？藍智庫前研究員曾柏文爆性騷 侯友宜：勿枉勿縱',\n",
       " '女記者控遭傅崐萁性騷 國民黨高層反嗆「泥巴戰」：是民進黨轉移焦點',\n",
       " '性平爭議延燒！應曉薇提5大修法方向 批民進黨不要只說幹話',\n",
       " '「絕不寬待」傅崐萁！ 侯友宜籲調查性騷：不論黨籍一視同仁',\n",
       " '快訊／不輕縱！傅崐萁涉性騷時「無黨籍」 國民黨仍會啟動調查',\n",
       " '批民進黨DNA是「狼選之人─造狼者」 賴士葆肯定受害人站出來',\n",
       " '被點名目擊性騷！郝龍斌稱｢沒清楚記憶｣ 勸傅崐萁坦然面對']"
      ]
     },
     "execution_count": 17,
     "metadata": {},
     "output_type": "execute_result"
    }
   ],
   "source": [
    "cleaned_list = [text.replace('\\u3000', ' ') for text in head_list]\n",
    "cleaned_list"
   ]
  },
  {
   "cell_type": "code",
   "execution_count": 18,
   "id": "ae4275d6",
   "metadata": {},
   "outputs": [
    {
     "data": {
      "text/html": [
       "<div>\n",
       "<style scoped>\n",
       "    .dataframe tbody tr th:only-of-type {\n",
       "        vertical-align: middle;\n",
       "    }\n",
       "\n",
       "    .dataframe tbody tr th {\n",
       "        vertical-align: top;\n",
       "    }\n",
       "\n",
       "    .dataframe thead th {\n",
       "        text-align: right;\n",
       "    }\n",
       "</style>\n",
       "<table border=\"1\" class=\"dataframe\">\n",
       "  <thead>\n",
       "    <tr style=\"text-align: right;\">\n",
       "      <th></th>\n",
       "      <th>head</th>\n",
       "      <th>link</th>\n",
       "    </tr>\n",
       "  </thead>\n",
       "  <tbody>\n",
       "    <tr>\n",
       "      <th>0</th>\n",
       "      <td>揭發RISU外流社團被酸變相宣傳　王婉諭：沈默會讓受害者更孤立無援</td>\n",
       "      <td>https://www.ettoday.net/news/20230606/2513982.htm</td>\n",
       "    </tr>\n",
       "    <tr>\n",
       "      <th>1</th>\n",
       "      <td>台大醫學系教授自揭曾遭性騷擾「舉證困難結案」　院方回應了</td>\n",
       "      <td>https://www.ettoday.net/news/20230605/2513692.htm</td>\n",
       "    </tr>\n",
       "    <tr>\n",
       "      <th>2</th>\n",
       "      <td>職場性騷擾「超過7成不敢說」！法規漏洞20年沒補⋯婦團聯合呼籲</td>\n",
       "      <td>https://www.ettoday.net/news/20230605/2513528.htm</td>\n",
       "    </tr>\n",
       "    <tr>\n",
       "      <th>3</th>\n",
       "      <td>傅崐萁翻版？藍智庫前研究員曾柏文爆性騷　侯友宜：勿枉勿縱</td>\n",
       "      <td>https://www.ettoday.net/news/20230605/2513436.htm</td>\n",
       "    </tr>\n",
       "    <tr>\n",
       "      <th>4</th>\n",
       "      <td>女記者控遭傅崐萁性騷　國民黨高層反嗆「泥巴戰」：是民進黨轉移焦點</td>\n",
       "      <td>https://www.ettoday.net/news/20230604/2513168.htm</td>\n",
       "    </tr>\n",
       "    <tr>\n",
       "      <th>5</th>\n",
       "      <td>性平爭議延燒！應曉薇提5大修法方向　批民進黨不要只說幹話</td>\n",
       "      <td>https://www.ettoday.net/news/20230604/2513046.htm</td>\n",
       "    </tr>\n",
       "    <tr>\n",
       "      <th>6</th>\n",
       "      <td>「絕不寬待」傅崐萁！　侯友宜籲調查性騷：不論黨籍一視同仁</td>\n",
       "      <td>https://www.ettoday.net/news/20230604/2513066.htm</td>\n",
       "    </tr>\n",
       "    <tr>\n",
       "      <th>7</th>\n",
       "      <td>快訊／不輕縱！傅崐萁涉性騷時「無黨籍」　國民黨仍會啟動調查</td>\n",
       "      <td>https://www.ettoday.net/news/20230604/2512868.htm</td>\n",
       "    </tr>\n",
       "    <tr>\n",
       "      <th>8</th>\n",
       "      <td>批民進黨DNA是「狼選之人─造狼者」　賴士葆肯定受害人站出來</td>\n",
       "      <td>https://www.ettoday.net/news/20230604/2512842.htm</td>\n",
       "    </tr>\n",
       "    <tr>\n",
       "      <th>9</th>\n",
       "      <td>被點名目擊性騷！郝龍斌稱｢沒清楚記憶｣　勸傅崐萁坦然面對</td>\n",
       "      <td>https://www.ettoday.net/news/20230604/2512834.htm</td>\n",
       "    </tr>\n",
       "  </tbody>\n",
       "</table>\n",
       "</div>"
      ],
      "text/plain": [
       "                                head  \\\n",
       "0  揭發RISU外流社團被酸變相宣傳　王婉諭：沈默會讓受害者更孤立無援   \n",
       "1       台大醫學系教授自揭曾遭性騷擾「舉證困難結案」　院方回應了   \n",
       "2    職場性騷擾「超過7成不敢說」！法規漏洞20年沒補⋯婦團聯合呼籲   \n",
       "3       傅崐萁翻版？藍智庫前研究員曾柏文爆性騷　侯友宜：勿枉勿縱   \n",
       "4   女記者控遭傅崐萁性騷　國民黨高層反嗆「泥巴戰」：是民進黨轉移焦點   \n",
       "5       性平爭議延燒！應曉薇提5大修法方向　批民進黨不要只說幹話   \n",
       "6       「絕不寬待」傅崐萁！　侯友宜籲調查性騷：不論黨籍一視同仁   \n",
       "7      快訊／不輕縱！傅崐萁涉性騷時「無黨籍」　國民黨仍會啟動調查   \n",
       "8     批民進黨DNA是「狼選之人─造狼者」　賴士葆肯定受害人站出來   \n",
       "9       被點名目擊性騷！郝龍斌稱｢沒清楚記憶｣　勸傅崐萁坦然面對   \n",
       "\n",
       "                                                link  \n",
       "0  https://www.ettoday.net/news/20230606/2513982.htm  \n",
       "1  https://www.ettoday.net/news/20230605/2513692.htm  \n",
       "2  https://www.ettoday.net/news/20230605/2513528.htm  \n",
       "3  https://www.ettoday.net/news/20230605/2513436.htm  \n",
       "4  https://www.ettoday.net/news/20230604/2513168.htm  \n",
       "5  https://www.ettoday.net/news/20230604/2513046.htm  \n",
       "6  https://www.ettoday.net/news/20230604/2513066.htm  \n",
       "7  https://www.ettoday.net/news/20230604/2512868.htm  \n",
       "8  https://www.ettoday.net/news/20230604/2512842.htm  \n",
       "9  https://www.ettoday.net/news/20230604/2512834.htm  "
      ]
     },
     "execution_count": 18,
     "metadata": {},
     "output_type": "execute_result"
    }
   ],
   "source": [
    "df = pd.DataFrame({'head': head_list})\n",
    "df = df.assign(link=link_list)\n",
    "df"
   ]
  },
  {
   "cell_type": "code",
   "execution_count": null,
   "id": "9f58ef39",
   "metadata": {},
   "outputs": [],
   "source": []
  }
 ],
 "metadata": {
  "kernelspec": {
   "display_name": "Python 3 (ipykernel)",
   "language": "python",
   "name": "python3"
  },
  "language_info": {
   "codemirror_mode": {
    "name": "ipython",
    "version": 3
   },
   "file_extension": ".py",
   "mimetype": "text/x-python",
   "name": "python",
   "nbconvert_exporter": "python",
   "pygments_lexer": "ipython3",
   "version": "3.9.13"
  }
 },
 "nbformat": 4,
 "nbformat_minor": 5
}
