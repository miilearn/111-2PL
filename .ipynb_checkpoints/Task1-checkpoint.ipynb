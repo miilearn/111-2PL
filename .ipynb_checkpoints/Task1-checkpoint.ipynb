{
 "cells": [
  {
   "cell_type": "code",
   "execution_count": 1,
   "id": "637ff6d2",
   "metadata": {},
   "outputs": [],
   "source": [
    "# 2022 & 2018 世界盃8強國家"
   ]
  },
  {
   "cell_type": "code",
   "execution_count": 11,
   "id": "5916bd82",
   "metadata": {},
   "outputs": [],
   "source": [
    "#使用pandas套件\n",
    "import pandas as pd\n",
    "\n",
    "#read csv file\n",
    "all = pd.read_csv(\"Task1_data.csv\")"
   ]
  },
  {
   "cell_type": "code",
   "execution_count": 12,
   "id": "791d3799",
   "metadata": {},
   "outputs": [
    {
     "data": {
      "text/html": [
       "<div>\n",
       "<style scoped>\n",
       "    .dataframe tbody tr th:only-of-type {\n",
       "        vertical-align: middle;\n",
       "    }\n",
       "\n",
       "    .dataframe tbody tr th {\n",
       "        vertical-align: top;\n",
       "    }\n",
       "\n",
       "    .dataframe thead th {\n",
       "        text-align: right;\n",
       "    }\n",
       "</style>\n",
       "<table border=\"1\" class=\"dataframe\">\n",
       "  <thead>\n",
       "    <tr style=\"text-align: right;\">\n",
       "      <th></th>\n",
       "      <th>8強國家</th>\n",
       "      <th>2022</th>\n",
       "      <th>2018</th>\n",
       "    </tr>\n",
       "  </thead>\n",
       "  <tbody>\n",
       "    <tr>\n",
       "      <th>0</th>\n",
       "      <td>1</td>\n",
       "      <td>荷蘭</td>\n",
       "      <td>烏拉圭</td>\n",
       "    </tr>\n",
       "    <tr>\n",
       "      <th>1</th>\n",
       "      <td>2</td>\n",
       "      <td>阿根廷</td>\n",
       "      <td>巴西</td>\n",
       "    </tr>\n",
       "    <tr>\n",
       "      <th>2</th>\n",
       "      <td>3</td>\n",
       "      <td>英格蘭</td>\n",
       "      <td>法國</td>\n",
       "    </tr>\n",
       "    <tr>\n",
       "      <th>3</th>\n",
       "      <td>4</td>\n",
       "      <td>法國</td>\n",
       "      <td>比利時</td>\n",
       "    </tr>\n",
       "    <tr>\n",
       "      <th>4</th>\n",
       "      <td>5</td>\n",
       "      <td>克羅埃西亞</td>\n",
       "      <td>俄羅斯</td>\n",
       "    </tr>\n",
       "    <tr>\n",
       "      <th>5</th>\n",
       "      <td>6</td>\n",
       "      <td>巴西</td>\n",
       "      <td>克羅埃西亞</td>\n",
       "    </tr>\n",
       "    <tr>\n",
       "      <th>6</th>\n",
       "      <td>7</td>\n",
       "      <td>摩洛哥</td>\n",
       "      <td>瑞典</td>\n",
       "    </tr>\n",
       "    <tr>\n",
       "      <th>7</th>\n",
       "      <td>8</td>\n",
       "      <td>葡萄牙</td>\n",
       "      <td>英格蘭</td>\n",
       "    </tr>\n",
       "  </tbody>\n",
       "</table>\n",
       "</div>"
      ],
      "text/plain": [
       "   8強國家   2022   2018\n",
       "0     1     荷蘭    烏拉圭\n",
       "1     2    阿根廷     巴西\n",
       "2     3    英格蘭     法國\n",
       "3     4     法國    比利時\n",
       "4     5  克羅埃西亞    俄羅斯\n",
       "5     6     巴西  克羅埃西亞\n",
       "6     7    摩洛哥     瑞典\n",
       "7     8    葡萄牙    英格蘭"
      ]
     },
     "execution_count": 12,
     "metadata": {},
     "output_type": "execute_result"
    }
   ],
   "source": [
    "all"
   ]
  },
  {
   "cell_type": "code",
   "execution_count": 14,
   "id": "fb289282",
   "metadata": {},
   "outputs": [
    {
     "name": "stdout",
     "output_type": "stream",
     "text": [
      "['荷蘭', '阿根廷', '英格蘭', '法國', '克羅埃西亞', '巴西', '摩洛哥', '葡萄牙']\n",
      "['烏拉圭', '巴西', '法國', '比利時', '俄羅斯', '克羅埃西亞', '瑞典', '英格蘭']\n"
     ]
    }
   ],
   "source": [
    "list2022 = list(all['2022'])\n",
    "list2018 = list(all['2018'])\n",
    "print(list2022)\n",
    "print(list2018)"
   ]
  },
  {
   "cell_type": "code",
   "execution_count": 15,
   "id": "29bc4ff4",
   "metadata": {},
   "outputs": [
    {
     "name": "stdout",
     "output_type": "stream",
     "text": [
      "{'克羅埃西亞', '葡萄牙', '摩洛哥', '巴西', '荷蘭', '阿根廷', '法國', '英格蘭'}\n",
      "{'克羅埃西亞', '烏拉圭', '瑞典', '俄羅斯', '巴西', '法國', '英格蘭', '比利時'}\n"
     ]
    }
   ],
   "source": [
    "#將資料型態改為set(中括號將變成大括號)\n",
    "s2022 = set(list2022)\n",
    "s2018 = set(list2018)\n",
    "print(s2022)\n",
    "print(s2018)"
   ]
  },
  {
   "cell_type": "code",
   "execution_count": 16,
   "id": "a4b03c61",
   "metadata": {},
   "outputs": [
    {
     "name": "stdout",
     "output_type": "stream",
     "text": [
      "{'克羅埃西亞', '烏拉圭', '瑞典', '葡萄牙', '俄羅斯', '摩洛哥', '比利時', '巴西', '荷蘭', '阿根廷', '法國', '英格蘭'}\n"
     ]
    }
   ],
   "source": [
    "#聯集\n",
    "#2022 & 2018 晉級8強名單\n",
    "print(s2022|s2018)"
   ]
  },
  {
   "cell_type": "code",
   "execution_count": 17,
   "id": "02755eff",
   "metadata": {},
   "outputs": [
    {
     "name": "stdout",
     "output_type": "stream",
     "text": [
      "{'巴西', '克羅埃西亞', '英格蘭', '法國'}\n"
     ]
    }
   ],
   "source": [
    "#交集\n",
    "#2022 & 2018兩年皆晉級8強名單\n",
    "print(s2022&s2018)"
   ]
  },
  {
   "cell_type": "code",
   "execution_count": 18,
   "id": "ffb14209",
   "metadata": {},
   "outputs": [
    {
     "name": "stdout",
     "output_type": "stream",
     "text": [
      "{'摩洛哥', '葡萄牙', '荷蘭', '阿根廷'}\n"
     ]
    }
   ],
   "source": [
    "#差集\n",
    "#2022名單扣掉2018出現的名單\n",
    "print(s2022-s2018)"
   ]
  },
  {
   "cell_type": "code",
   "execution_count": null,
   "id": "4a3e207a",
   "metadata": {},
   "outputs": [],
   "source": []
  }
 ],
 "metadata": {
  "kernelspec": {
   "display_name": "Python 3 (ipykernel)",
   "language": "python",
   "name": "python3"
  },
  "language_info": {
   "codemirror_mode": {
    "name": "ipython",
    "version": 3
   },
   "file_extension": ".py",
   "mimetype": "text/x-python",
   "name": "python",
   "nbconvert_exporter": "python",
   "pygments_lexer": "ipython3",
   "version": "3.9.13"
  }
 },
 "nbformat": 4,
 "nbformat_minor": 5
}
