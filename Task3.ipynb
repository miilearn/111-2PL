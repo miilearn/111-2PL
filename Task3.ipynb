{
 "cells": [
  {
   "cell_type": "code",
   "execution_count": 8,
   "id": "0e008b07",
   "metadata": {},
   "outputs": [],
   "source": [
    "import re  #匯入regular expression 資料正則化  「[^\\x00-\\xff]+」 搜尋「英文、數字以外」類資料"
   ]
  },
  {
   "cell_type": "code",
   "execution_count": 9,
   "id": "0d35aa4b",
   "metadata": {},
   "outputs": [
    {
     "name": "stdout",
     "output_type": "stream",
     "text": [
      "誰把誰的靈魂 裝進誰的身體\n",
      "誰把誰的身體 變成囹圄囚禁自己\n",
      "亂世總是最 不缺耳語\n",
      "哪種美麗會 喚來妒忌\n",
      "你並沒有罪 有罪是這世界\n",
      "\n",
      "生而為人無罪\n",
      "你不需要抱歉\n",
      "One day I will be you, baby boy and you gon' be me\n",
      "\n",
      "喧嘩如果不停\n",
      "讓我陪你安靜\n",
      "I wish I could hug you , till you're really really being free\n",
      "\n",
      "哪朵玫瑰 沒有荊棘\n",
      "最好的報復 是美麗\n",
      "最美的盛開 是反擊\n",
      "\n",
      "別讓誰去 改變了你\n",
      "你是你 或是妳 都行\n",
      "會有人 全心的 愛你\n",
      "\n",
      "試著想像 you switched to his body\n",
      "Sexuality 當心 什麼會傷你\n",
      "多少次的重傷 多少次的冷語\n",
      "Drowning 誰會拉你\n",
      "Dreaming 誰會陪你\n",
      "\n",
      "Same shit happens every day .\n",
      "你離開後 世界可改變\n",
      "多少無知罪愆 事過不境遷\n",
      "永誌不忘記念 往事不如煙\n",
      "\n",
      "生而為人無罪\n",
      "你不需要抱歉\n",
      "One day I will be you, baby boy and you gon' be me\n",
      "\n",
      "喧嘩如果不停\n",
      "讓我陪你安靜\n",
      "I wish I could hug you , till you're really really being free\n",
      "\n",
      "哪朵玫瑰 沒有荊棘\n",
      "最好的報復 是美麗\n",
      "最美的盛開 是反擊\n",
      "\n",
      "別讓誰去 改變了你\n",
      "你是你 或是妳 都行\n",
      "會有人 全心的 愛你\n",
      "\n",
      "玫瑰少年 在我心裡\n",
      "綻放著 鮮豔的 傳奇\n",
      "我們都 從來沒 忘記\n",
      "\n",
      "你的控訴 沒有聲音\n",
      "卻傾訴 更多的 真理\n",
      "卻喚醒 無數的 真心\n"
     ]
    }
   ],
   "source": [
    "#文件編碼方式為utf-8 為了讓python能夠讀懂多加了encoding='utf-8'這行\n",
    "with open('C:/Users/88696/Desktop/lyrics.txt',  encoding='utf-8') as f:\n",
    "    content = f.read()\n",
    "    print(content)"
   ]
  },
  {
   "cell_type": "code",
   "execution_count": 10,
   "id": "3a378c2b",
   "metadata": {},
   "outputs": [
    {
     "data": {
      "text/plain": [
       "['One',\n",
       " 'day',\n",
       " 'I',\n",
       " 'will',\n",
       " 'be',\n",
       " 'you',\n",
       " 'baby',\n",
       " 'boy',\n",
       " 'and',\n",
       " 'you',\n",
       " 'gon',\n",
       " 'be',\n",
       " 'me',\n",
       " 'I',\n",
       " 'wish',\n",
       " 'I',\n",
       " 'could',\n",
       " 'hug',\n",
       " 'you',\n",
       " 'till',\n",
       " 'you',\n",
       " 're',\n",
       " 'really',\n",
       " 'really',\n",
       " 'being',\n",
       " 'free',\n",
       " 'you',\n",
       " 'switched',\n",
       " 'to',\n",
       " 'his',\n",
       " 'body',\n",
       " 'Sexuality',\n",
       " 'Drowning',\n",
       " 'Dreaming',\n",
       " 'Same',\n",
       " 'shit',\n",
       " 'happens',\n",
       " 'every',\n",
       " 'day',\n",
       " 'One',\n",
       " 'day',\n",
       " 'I',\n",
       " 'will',\n",
       " 'be',\n",
       " 'you',\n",
       " 'baby',\n",
       " 'boy',\n",
       " 'and',\n",
       " 'you',\n",
       " 'gon',\n",
       " 'be',\n",
       " 'me',\n",
       " 'I',\n",
       " 'wish',\n",
       " 'I',\n",
       " 'could',\n",
       " 'hug',\n",
       " 'you',\n",
       " 'till',\n",
       " 'you',\n",
       " 're',\n",
       " 'really',\n",
       " 'really',\n",
       " 'being',\n",
       " 'free']"
      ]
     },
     "execution_count": 10,
     "metadata": {},
     "output_type": "execute_result"
    }
   ],
   "source": [
    "# 找出歌詞中的英文\n",
    "# r 將\\等特殊字元視為原始字符串而非有類似換行作用的普通字符串\n",
    "elyrics = re.findall(r'\\b[A-Za-z]+\\b',content)\n",
    "elyrics"
   ]
  },
  {
   "cell_type": "code",
   "execution_count": null,
   "id": "50151fec",
   "metadata": {},
   "outputs": [],
   "source": []
  },
  {
   "cell_type": "code",
   "execution_count": null,
   "id": "00fed459",
   "metadata": {},
   "outputs": [],
   "source": []
  }
 ],
 "metadata": {
  "kernelspec": {
   "display_name": "Python 3 (ipykernel)",
   "language": "python",
   "name": "python3"
  },
  "language_info": {
   "codemirror_mode": {
    "name": "ipython",
    "version": 3
   },
   "file_extension": ".py",
   "mimetype": "text/x-python",
   "name": "python",
   "nbconvert_exporter": "python",
   "pygments_lexer": "ipython3",
   "version": "3.9.13"
  }
 },
 "nbformat": 4,
 "nbformat_minor": 5
}
