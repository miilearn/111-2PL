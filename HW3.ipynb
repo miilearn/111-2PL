{
 "cells": [
  {
   "cell_type": "code",
   "execution_count": 70,
   "id": "8a277737",
   "metadata": {},
   "outputs": [],
   "source": [
    "import json\n",
    "import csv\n",
    "import pandas as pd\n",
    "import re"
   ]
  },
  {
   "cell_type": "code",
   "execution_count": 71,
   "id": "b1b6d704",
   "metadata": {},
   "outputs": [],
   "source": [
    "#抓取網頁原始碼(HTML)ptt韓國旅遊版\n",
    "import urllib.request as req #導入連線網站的模組\n",
    "url = \"https://www.ptt.cc/bbs/Korea_Travel/index.html\"\n",
    "\n",
    "#向指定的URL發送請求\n",
    "request = req.Request(url,headers = {\"User-Agent\":\"/5.0 (Windows NT 10.0; Win64; x64) AppleWebKit/537.36 (KHTML, like Gecko) Chrome/106.0.0.0 Safari/537.36\"})\n",
    "with req.urlopen(request) as response:\n",
    "    data =response.read().decode(\"utf-8\")\n",
    "\n",
    "#print(data)"
   ]
  },
  {
   "cell_type": "code",
   "execution_count": 72,
   "id": "a8b8e04a",
   "metadata": {},
   "outputs": [
    {
     "name": "stdout",
     "output_type": "stream",
     "text": [
      "[徵求] 4/29-5/1大邱食伴\n",
      "台幣換韓圜/民間換錢所/匯率回報與詢問\n",
      "[公告]韓國旅遊板板規/徵售網卡文過期請自刪\n",
      "[公告]武漢肺炎相關資訊/討論/詢答集中置底\n",
      "[資訊] 2023年夏季 台灣韓國航線整合班表\n"
     ]
    }
   ],
   "source": [
    "#解析網頁原始碼\n",
    "import bs4\n",
    "from bs4 import BeautifulSoup\n",
    "root = bs4.BeautifulSoup(data, \"html.parser\")\n",
    "\n",
    "#取得標題\n",
    "titles = root.find_all(\"div\", class_=\"title\")\n",
    "for title in titles:\n",
    "    print(title.a.string)"
   ]
  },
  {
   "cell_type": "code",
   "execution_count": 73,
   "id": "7edb38f5",
   "metadata": {
    "scrolled": true
   },
   "outputs": [
    {
     "data": {
      "text/plain": [
       "['[徵求] 4/29-5/1大邱食伴',\n",
       " '台幣換韓圜/民間換錢所/匯率回報與詢問',\n",
       " '[公告]韓國旅遊板板規/徵售網卡文過期請自刪',\n",
       " '[公告]武漢肺炎相關資訊/討論/詢答集中置底',\n",
       " '[資訊] 2023年夏季 台灣韓國航線整合班表']"
      ]
     },
     "execution_count": 73,
     "metadata": {},
     "output_type": "execute_result"
    }
   ],
   "source": [
    "#建list\n",
    "temp = []\n",
    "for title in titles:\n",
    "    temp.append(title.a.string)\n",
    "\n",
    "temp"
   ]
  },
  {
   "cell_type": "code",
   "execution_count": 74,
   "id": "4724a643",
   "metadata": {},
   "outputs": [
    {
     "name": "stdout",
     "output_type": "stream",
     "text": [
      "[徵求] 4/29-5/1大邱食伴\n",
      "[公告]韓國旅遊板板規/徵售網卡文過期請自刪\n",
      "[公告]武漢肺炎相關資訊/討論/詢答集中置底\n",
      "[資訊] 2023年夏季 台灣韓國航線整合班表\n"
     ]
    }
   ],
   "source": [
    "# 透過資料正則化將有[]分類的事項提取出來\n",
    "pattern = r\"\\[(.*?)\\]\"\n",
    "final_list = []\n",
    "for i in range(len(temp)):\n",
    "    match = re.search(pattern, temp[i])\n",
    "    if match:\n",
    "         final_list.append(temp[i])\n",
    "final_lists = '\\n'.join(final_list)  #換行\n",
    "print(final_lists)"
   ]
  },
  {
   "cell_type": "code",
   "execution_count": 75,
   "id": "0fe3529f",
   "metadata": {},
   "outputs": [
    {
     "name": "stdout",
     "output_type": "stream",
     "text": [
      "                         0\n",
      "0        [徵求] 4/29-5/1大邱食伴\n",
      "1   [公告]韓國旅遊板板規/徵售網卡文過期請自刪\n",
      "2   [公告]武漢肺炎相關資訊/討論/詢答集中置底\n",
      "3  [資訊] 2023年夏季 台灣韓國航線整合班表\n"
     ]
    }
   ],
   "source": [
    "# 轉換成 DataFrame\n",
    "df = pd.DataFrame(final_list)\n",
    "print(df)"
   ]
  },
  {
   "cell_type": "code",
   "execution_count": 76,
   "id": "6083f623",
   "metadata": {},
   "outputs": [
    {
     "data": {
      "text/plain": [
       "{0: {0: '[徵求] 4/29-5/1大邱食伴',\n",
       "  1: '[公告]韓國旅遊板板規/徵售網卡文過期請自刪',\n",
       "  2: '[公告]武漢肺炎相關資訊/討論/詢答集中置底',\n",
       "  3: '[資訊] 2023年夏季 台灣韓國航線整合班表'}}"
      ]
     },
     "execution_count": 76,
     "metadata": {},
     "output_type": "execute_result"
    }
   ],
   "source": [
    "# 將DataFrame轉為Dictionary\n",
    "## 確認現在 temp 的 type\n",
    "final_list = df.to_dict()\n",
    "type(final_list)\n",
    "final_list"
   ]
  },
  {
   "cell_type": "code",
   "execution_count": 77,
   "id": "c032d8eb",
   "metadata": {},
   "outputs": [],
   "source": [
    "# 將Dictionary轉成json檔\n",
    "with open('korea_travel.json', 'w', encoding='utf-8') as file:\n",
    "    json.dump(final_list, file, ensure_ascii=False)  "
   ]
  },
  {
   "cell_type": "code",
   "execution_count": 78,
   "id": "6fe9de44",
   "metadata": {},
   "outputs": [
    {
     "data": {
      "text/plain": [
       "{'0': {'0': '[徵求] 4/29-5/1大邱食伴',\n",
       "  '1': '[公告]韓國旅遊板板規/徵售網卡文過期請自刪',\n",
       "  '2': '[公告]武漢肺炎相關資訊/討論/詢答集中置底',\n",
       "  '3': '[資訊] 2023年夏季 台灣韓國航線整合班表'}}"
      ]
     },
     "execution_count": 78,
     "metadata": {},
     "output_type": "execute_result"
    }
   ],
   "source": [
    "# 打開json檔確認資料內容\n",
    "x = open('korea_travel.json',encoding=\"utf8\")\n",
    "dataj = json.load(x)\n",
    "type(dataj)\n",
    "dataj"
   ]
  },
  {
   "cell_type": "code",
   "execution_count": null,
   "id": "a11b5c2f",
   "metadata": {},
   "outputs": [],
   "source": []
  }
 ],
 "metadata": {
  "kernelspec": {
   "display_name": "Python 3 (ipykernel)",
   "language": "python",
   "name": "python3"
  },
  "language_info": {
   "codemirror_mode": {
    "name": "ipython",
    "version": 3
   },
   "file_extension": ".py",
   "mimetype": "text/x-python",
   "name": "python",
   "nbconvert_exporter": "python",
   "pygments_lexer": "ipython3",
   "version": "3.9.13"
  }
 },
 "nbformat": 4,
 "nbformat_minor": 5
}
