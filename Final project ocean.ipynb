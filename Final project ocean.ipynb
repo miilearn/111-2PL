{
 "cells": [
  {
   "cell_type": "code",
   "execution_count": 1,
   "id": "6800a712",
   "metadata": {},
   "outputs": [],
   "source": [
    "import json\n",
    "import csv\n",
    "import pandas as pd\n",
    "import re"
   ]
  },
  {
   "cell_type": "code",
   "execution_count": 2,
   "id": "7dda3a4e",
   "metadata": {},
   "outputs": [],
   "source": [
    "import urllib.request as req \n",
    "url = \"https://www.ettoday.net/news_search/doSearch.php?keywords=%E4%BF%9D%E8%82%B2%E6%B5%B7%E6%B4%8B%E7%94%9F%E6%85%8B\"\n",
    "\n",
    "request = req.Request(url,headers = {\"User-Agent\":\"/5.0 (Windows NT 10.0; Win64; x64) AppleWebKit/537.36 (KHTML, like Gecko) Chrome/106.0.0.0 Safari/537.36\"})\n",
    "with req.urlopen(request) as response:\n",
    "    data =response.read().decode(\"utf-8\")\n",
    "\n",
    "#print(data)"
   ]
  },
  {
   "cell_type": "code",
   "execution_count": 3,
   "id": "1b203ba0",
   "metadata": {},
   "outputs": [
    {
     "name": "stdout",
     "output_type": "stream",
     "text": [
      "保育海洋生態熱門搜尋 | 新聞搜尋 | ETtoday 新聞雲\n"
     ]
    }
   ],
   "source": [
    "import bs4 #beautifulsoup4\n",
    "root = bs4.BeautifulSoup(data,\"html.parser\")\n",
    "titles = root.find_all(\"div\",class_ = \"title\") #尋找所有 class = \"title\" 的 div 標籤\n",
    "print(root.title.string)"
   ]
  },
  {
   "cell_type": "code",
   "execution_count": 4,
   "id": "8ef3ca9b",
   "metadata": {},
   "outputs": [
    {
     "name": "stdout",
     "output_type": "stream",
     "text": [
      "[<h2><a href=\"https://www.ettoday.net/news/20230319/2462424.htm\" onclick=\"_gaq.push(['_trackEvent', '搜尋-結果列表','保育海洋生態','https://www.ettoday.net/news/20230319/2462424.htm']);\" target=\"_blank\">響應新北潔淨海洋！松智扶輪社淨灘又淨海　清出287公斤垃圾</a></h2>, <h2><a href=\"https://www.ettoday.net/news/20230210/2437866.htm\" onclick=\"_gaq.push(['_trackEvent', '搜尋-結果列表','保育海洋生態','https://www.ettoday.net/news/20230210/2437866.htm']);\" target=\"_blank\">肯定花蓮永續旅遊能量　ESG旅遊協會洞察先機首發踩線</a></h2>, <h2><a href=\"https://www.ettoday.net/news/20221210/2398243.htm\" onclick=\"_gaq.push(['_trackEvent', '搜尋-結果列表','保育海洋生態','https://www.ettoday.net/news/20221210/2398243.htm']);\" target=\"_blank\">嘉義淨零綠生活嘉年華會登場 　集結空、水、廢三大議題</a></h2>]\n"
     ]
    }
   ],
   "source": [
    "import requests\n",
    "url = \"https://www.ettoday.net/news_search/doSearch.php?keywords=%E4%BF%9D%E8%82%B2%E6%B5%B7%E6%B4%8B%E7%94%9F%E6%85%8B\"\n",
    "\n",
    "from bs4 import BeautifulSoup \n",
    "response = requests.get(url)\n",
    "soup = BeautifulSoup(response.text,\"html.parser\")\n",
    "result = soup.find_all(\"h2\",limit=3) \n",
    "#find_all()：搜尋網頁中所有符合條件的HTML節點，傳入要搜尋的HTML標籤名稱。\n",
    "#limit=n：搜尋結果只會出現n個，若要全部出現則不用設限。\n",
    "print(result)"
   ]
  },
  {
   "cell_type": "code",
   "execution_count": 5,
   "id": "5fe59893",
   "metadata": {},
   "outputs": [
    {
     "data": {
      "text/plain": [
       "['https://www.ettoday.net/news/20230319/2462424.htm',\n",
       " 'https://www.ettoday.net/news/20230210/2437866.htm',\n",
       " 'https://www.ettoday.net/news/20221210/2398243.htm',\n",
       " 'https://www.ettoday.net/news/20220807/2311013.htm',\n",
       " 'https://www.ettoday.net/news/20220728/2303933.htm',\n",
       " 'https://www.ettoday.net/news/20220510/2247729.htm',\n",
       " 'https://www.ettoday.net/news/20220507/2246272.htm',\n",
       " 'https://www.ettoday.net/news/20220320/2211963.htm',\n",
       " 'https://www.ettoday.net/news/20220114/2169181.htm',\n",
       " 'https://www.ettoday.net/news/20211210/2143421.htm']"
      ]
     },
     "execution_count": 5,
     "metadata": {},
     "output_type": "execute_result"
    }
   ],
   "source": [
    "link_list = list()\n",
    "titles = soup.find_all(\"h2\")\n",
    "for title in titles:\n",
    "    anchor = title.select_one(\"a\")\n",
    "    if anchor is not None:\n",
    "        link_list.append(anchor.get(\"href\"))\n",
    "        #print(anchor.get(\"href\"))\n",
    "link_list "
   ]
  },
  {
   "cell_type": "code",
   "execution_count": 6,
   "id": "f78d8b44",
   "metadata": {},
   "outputs": [
    {
     "name": "stdout",
     "output_type": "stream",
     "text": [
      "['響應新北潔淨海洋！松智扶輪社淨灘又淨海\\u3000清出287公斤垃圾', '肯定花蓮永續旅遊能量\\u3000ESG旅遊協會洞察先機首發踩線', '嘉義淨零綠生活嘉年華會登場 \\u3000集結空、水、廢三大議題', '鱟專家香山濕地講解！驚見本尊現身\\u30008隻稚鱟推估5歲了', '《禹英禑》收視破紀錄\\u3000女主最愛的「鯨魚」是地球的大禮物\\u3000', '東生華最新ESG報告報喜\\u3000公司曝「治理評鑑」獲上櫃前5％', '新北首創海洋救援藍海先鋒隊\\u3000侯友宜助海龜「早八」回大海', '台南七股沙洲保育類「印太瓶鼻海豚」擱淺\\u3000海巡、蚵民聯手急搶救', '台南王爺港沙洲保育類「糙齒海豚」擱淺\\u3000海巡動員急搶救', '三星創意競賽首獎出爐\\u3000「海岸清潔隊」自動淨灘抱走20萬']\n"
     ]
    }
   ],
   "source": [
    "head_list = list()\n",
    "titles = soup.find_all(\"h2\")\n",
    "for title in titles:\n",
    "    anchor = title.select_one(\"a\")\n",
    "    if anchor is not None:\n",
    "        head_list.append(anchor.getText())\n",
    "        #print(anchor.getText())\n",
    "print(head_list)"
   ]
  },
  {
   "cell_type": "code",
   "execution_count": 7,
   "id": "5ba1607a",
   "metadata": {},
   "outputs": [
    {
     "data": {
      "text/plain": [
       "['響應新北潔淨海洋！松智扶輪社淨灘又淨海 清出287公斤垃圾',\n",
       " '肯定花蓮永續旅遊能量 ESG旅遊協會洞察先機首發踩線',\n",
       " '嘉義淨零綠生活嘉年華會登場  集結空、水、廢三大議題',\n",
       " '鱟專家香山濕地講解！驚見本尊現身 8隻稚鱟推估5歲了',\n",
       " '《禹英禑》收視破紀錄 女主最愛的「鯨魚」是地球的大禮物 ',\n",
       " '東生華最新ESG報告報喜 公司曝「治理評鑑」獲上櫃前5％',\n",
       " '新北首創海洋救援藍海先鋒隊 侯友宜助海龜「早八」回大海',\n",
       " '台南七股沙洲保育類「印太瓶鼻海豚」擱淺 海巡、蚵民聯手急搶救',\n",
       " '台南王爺港沙洲保育類「糙齒海豚」擱淺 海巡動員急搶救',\n",
       " '三星創意競賽首獎出爐 「海岸清潔隊」自動淨灘抱走20萬']"
      ]
     },
     "execution_count": 7,
     "metadata": {},
     "output_type": "execute_result"
    }
   ],
   "source": [
    "cleaned_list = [text.replace('\\u3000', ' ') for text in head_list]\n",
    "cleaned_list"
   ]
  },
  {
   "cell_type": "code",
   "execution_count": 8,
   "id": "8ad251f8",
   "metadata": {},
   "outputs": [
    {
     "data": {
      "text/html": [
       "<div>\n",
       "<style scoped>\n",
       "    .dataframe tbody tr th:only-of-type {\n",
       "        vertical-align: middle;\n",
       "    }\n",
       "\n",
       "    .dataframe tbody tr th {\n",
       "        vertical-align: top;\n",
       "    }\n",
       "\n",
       "    .dataframe thead th {\n",
       "        text-align: right;\n",
       "    }\n",
       "</style>\n",
       "<table border=\"1\" class=\"dataframe\">\n",
       "  <thead>\n",
       "    <tr style=\"text-align: right;\">\n",
       "      <th></th>\n",
       "      <th>head</th>\n",
       "      <th>link</th>\n",
       "    </tr>\n",
       "  </thead>\n",
       "  <tbody>\n",
       "    <tr>\n",
       "      <th>0</th>\n",
       "      <td>響應新北潔淨海洋！松智扶輪社淨灘又淨海　清出287公斤垃圾</td>\n",
       "      <td>https://www.ettoday.net/news/20230319/2462424.htm</td>\n",
       "    </tr>\n",
       "    <tr>\n",
       "      <th>1</th>\n",
       "      <td>肯定花蓮永續旅遊能量　ESG旅遊協會洞察先機首發踩線</td>\n",
       "      <td>https://www.ettoday.net/news/20230210/2437866.htm</td>\n",
       "    </tr>\n",
       "    <tr>\n",
       "      <th>2</th>\n",
       "      <td>嘉義淨零綠生活嘉年華會登場 　集結空、水、廢三大議題</td>\n",
       "      <td>https://www.ettoday.net/news/20221210/2398243.htm</td>\n",
       "    </tr>\n",
       "    <tr>\n",
       "      <th>3</th>\n",
       "      <td>鱟專家香山濕地講解！驚見本尊現身　8隻稚鱟推估5歲了</td>\n",
       "      <td>https://www.ettoday.net/news/20220807/2311013.htm</td>\n",
       "    </tr>\n",
       "    <tr>\n",
       "      <th>4</th>\n",
       "      <td>《禹英禑》收視破紀錄　女主最愛的「鯨魚」是地球的大禮物</td>\n",
       "      <td>https://www.ettoday.net/news/20220728/2303933.htm</td>\n",
       "    </tr>\n",
       "    <tr>\n",
       "      <th>5</th>\n",
       "      <td>東生華最新ESG報告報喜　公司曝「治理評鑑」獲上櫃前5％</td>\n",
       "      <td>https://www.ettoday.net/news/20220510/2247729.htm</td>\n",
       "    </tr>\n",
       "    <tr>\n",
       "      <th>6</th>\n",
       "      <td>新北首創海洋救援藍海先鋒隊　侯友宜助海龜「早八」回大海</td>\n",
       "      <td>https://www.ettoday.net/news/20220507/2246272.htm</td>\n",
       "    </tr>\n",
       "    <tr>\n",
       "      <th>7</th>\n",
       "      <td>台南七股沙洲保育類「印太瓶鼻海豚」擱淺　海巡、蚵民聯手急搶救</td>\n",
       "      <td>https://www.ettoday.net/news/20220320/2211963.htm</td>\n",
       "    </tr>\n",
       "    <tr>\n",
       "      <th>8</th>\n",
       "      <td>台南王爺港沙洲保育類「糙齒海豚」擱淺　海巡動員急搶救</td>\n",
       "      <td>https://www.ettoday.net/news/20220114/2169181.htm</td>\n",
       "    </tr>\n",
       "    <tr>\n",
       "      <th>9</th>\n",
       "      <td>三星創意競賽首獎出爐　「海岸清潔隊」自動淨灘抱走20萬</td>\n",
       "      <td>https://www.ettoday.net/news/20211210/2143421.htm</td>\n",
       "    </tr>\n",
       "  </tbody>\n",
       "</table>\n",
       "</div>"
      ],
      "text/plain": [
       "                             head  \\\n",
       "0   響應新北潔淨海洋！松智扶輪社淨灘又淨海　清出287公斤垃圾   \n",
       "1      肯定花蓮永續旅遊能量　ESG旅遊協會洞察先機首發踩線   \n",
       "2      嘉義淨零綠生活嘉年華會登場 　集結空、水、廢三大議題   \n",
       "3      鱟專家香山濕地講解！驚見本尊現身　8隻稚鱟推估5歲了   \n",
       "4    《禹英禑》收視破紀錄　女主最愛的「鯨魚」是地球的大禮物　   \n",
       "5    東生華最新ESG報告報喜　公司曝「治理評鑑」獲上櫃前5％   \n",
       "6     新北首創海洋救援藍海先鋒隊　侯友宜助海龜「早八」回大海   \n",
       "7  台南七股沙洲保育類「印太瓶鼻海豚」擱淺　海巡、蚵民聯手急搶救   \n",
       "8      台南王爺港沙洲保育類「糙齒海豚」擱淺　海巡動員急搶救   \n",
       "9     三星創意競賽首獎出爐　「海岸清潔隊」自動淨灘抱走20萬   \n",
       "\n",
       "                                                link  \n",
       "0  https://www.ettoday.net/news/20230319/2462424.htm  \n",
       "1  https://www.ettoday.net/news/20230210/2437866.htm  \n",
       "2  https://www.ettoday.net/news/20221210/2398243.htm  \n",
       "3  https://www.ettoday.net/news/20220807/2311013.htm  \n",
       "4  https://www.ettoday.net/news/20220728/2303933.htm  \n",
       "5  https://www.ettoday.net/news/20220510/2247729.htm  \n",
       "6  https://www.ettoday.net/news/20220507/2246272.htm  \n",
       "7  https://www.ettoday.net/news/20220320/2211963.htm  \n",
       "8  https://www.ettoday.net/news/20220114/2169181.htm  \n",
       "9  https://www.ettoday.net/news/20211210/2143421.htm  "
      ]
     },
     "execution_count": 8,
     "metadata": {},
     "output_type": "execute_result"
    }
   ],
   "source": [
    "df = pd.DataFrame({'head': head_list})\n",
    "df = df.assign(link=link_list)\n",
    "df"
   ]
  },
  {
   "cell_type": "code",
   "execution_count": null,
   "id": "d3eb458e",
   "metadata": {},
   "outputs": [],
   "source": []
  }
 ],
 "metadata": {
  "kernelspec": {
   "display_name": "Python 3 (ipykernel)",
   "language": "python",
   "name": "python3"
  },
  "language_info": {
   "codemirror_mode": {
    "name": "ipython",
    "version": 3
   },
   "file_extension": ".py",
   "mimetype": "text/x-python",
   "name": "python",
   "nbconvert_exporter": "python",
   "pygments_lexer": "ipython3",
   "version": "3.9.13"
  }
 },
 "nbformat": 4,
 "nbformat_minor": 5
}
